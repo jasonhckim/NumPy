{
  "nbformat": 4,
  "nbformat_minor": 0,
  "metadata": {
    "colab": {
      "name": "KAG_Conversion_Data.ipynb",
      "provenance": [],
      "authorship_tag": "ABX9TyNB4oME4A8fAGU61Xv2gAkg",
      "include_colab_link": true
    },
    "kernelspec": {
      "name": "python3",
      "display_name": "Python 3"
    },
    "language_info": {
      "name": "python"
    }
  },
  "cells": [
    {
      "cell_type": "markdown",
      "metadata": {
        "id": "view-in-github",
        "colab_type": "text"
      },
      "source": [
        "<a href=\"https://colab.research.google.com/github/jasonhckim/NumPy/blob/main/KAG_Conversion_Data.ipynb\" target=\"_parent\"><img src=\"https://colab.research.google.com/assets/colab-badge.svg\" alt=\"Open In Colab\"/></a>"
      ]
    },
    {
      "cell_type": "code",
      "execution_count": 35,
      "metadata": {
        "id": "bLJh4nSdMbkX"
      },
      "outputs": [],
      "source": [
        "#load the data\n",
        "import numpy as np\n",
        "\n",
        "project_data = '/content/KAG_Conversion_Data.csv'"
      ]
    },
    {
      "cell_type": "code",
      "source": [
        "data = np.genfromtxt(project_data, delimiter=\",\", encoding=None,skip_header=1,dtype=\"str\")\n",
        "datac = np.genfromtxt(project_data, delimiter=\",\", encoding=None,skip_header=1,dtype=\"float\")"
      ],
      "metadata": {
        "id": "S7KROCjGMjrI"
      },
      "execution_count": 36,
      "outputs": []
    },
    {
      "cell_type": "code",
      "source": [
        "# printing the data\n",
        "print(data)"
      ],
      "metadata": {
        "colab": {
          "base_uri": "https://localhost:8080/"
        },
        "id": "-AZzx-D1MmT2",
        "outputId": "15add770-f160-4b79-c293-b96460a170ae"
      },
      "execution_count": 37,
      "outputs": [
        {
          "output_type": "stream",
          "name": "stdout",
          "text": [
            "[['708746' '916' '103916' ... '1.429999948' '2' '1']\n",
            " ['708749' '916' '103917' ... '1.820000023' '2' '0']\n",
            " ['708771' '916' '103920' ... '0' '1' '0']\n",
            " ...\n",
            " ['1314412' '1178' '179979' ... '40.28999949' '2' '0']\n",
            " ['1314414' '1178' '179981' ... '198.7100005' '8' '2']\n",
            " ['1314415' '1178' '179982' ... '165.6099987' '5' '2']]\n"
          ]
        }
      ]
    },
    {
      "cell_type": "code",
      "source": [
        "ad_id = data[:,0]"
      ],
      "metadata": {
        "id": "qH93PVzaMv-1"
      },
      "execution_count": 38,
      "outputs": []
    },
    {
      "cell_type": "code",
      "source": [
        "# number of unique id\n",
        "unique_id = len(ad_id)\n",
        "print('Unique ID of {}:',unique_id)"
      ],
      "metadata": {
        "colab": {
          "base_uri": "https://localhost:8080/"
        },
        "id": "x7DU4Z2cM2Mu",
        "outputId": "cb1f6402-f70e-4b3a-869f-a8ec265270ca"
      },
      "execution_count": 39,
      "outputs": [
        {
          "output_type": "stream",
          "name": "stdout",
          "text": [
            "Unique ID of {}: 1143\n"
          ]
        }
      ]
    },
    {
      "cell_type": "code",
      "source": [
        "# number of campaign xyz\n",
        "xyzcampaignid = data[:,1]\n",
        "xyz = np.unique(xyzcampaignid)\n",
        "print(xyz)"
      ],
      "metadata": {
        "colab": {
          "base_uri": "https://localhost:8080/"
        },
        "id": "7XcxTKtGM58b",
        "outputId": "a080bd52-5cbf-41b7-b37f-cbb008b9cc4f"
      },
      "execution_count": 40,
      "outputs": [
        {
          "output_type": "stream",
          "name": "stdout",
          "text": [
            "['1178' '916' '936']\n"
          ]
        }
      ]
    },
    {
      "cell_type": "code",
      "source": [
        "#find the number of unique id\n",
        "\n",
        "sum=0\n",
        "for i in xyz:\n",
        "  for j in xyzcampaignid:\n",
        "    if i==j:\n",
        "      sum=sum+1\n",
        "  print(sum, end=\"  \")\n",
        "  sum=0"
      ],
      "metadata": {
        "colab": {
          "base_uri": "https://localhost:8080/"
        },
        "id": "RufErNwvNRT3",
        "outputId": "5f8395c6-ccbd-4691-cebe-220842ed245f"
      },
      "execution_count": 41,
      "outputs": [
        {
          "output_type": "stream",
          "name": "stdout",
          "text": [
            "625  54  464  "
          ]
        }
      ]
    },
    {
      "cell_type": "code",
      "source": [
        "#age group target for these ad campaign\n",
        "age = data[:,3]\n",
        "print(age)\n",
        "print(np.unique(age))"
      ],
      "metadata": {
        "colab": {
          "base_uri": "https://localhost:8080/"
        },
        "id": "o9QLXGR_OqkQ",
        "outputId": "16fcfa06-d06b-41ba-da9f-d0b9744fead0"
      },
      "execution_count": 42,
      "outputs": [
        {
          "output_type": "stream",
          "name": "stdout",
          "text": [
            "['30-34' '30-34' '30-34' ... '45-49' '45-49' '45-49']\n",
            "['30-34' '35-39' '40-44' '45-49']\n"
          ]
        }
      ]
    },
    {
      "cell_type": "code",
      "source": [
        "# find the average, min, max ad spent\n",
        "ad_spent = datac[:,8]\n",
        "print(ad_spent)\n",
        "min_ad_spent = ad_spent.min()\n",
        "max_ad_spent = ad_spent.max()\n",
        "mean_ad_spent = ad_spent.mean()\n",
        "\n",
        "print(min_ad_spent)\n",
        "print(max_ad_spent)\n",
        "print(mean_ad_spent)"
      ],
      "metadata": {
        "colab": {
          "base_uri": "https://localhost:8080/"
        },
        "id": "T1Owv1aiPL9J",
        "outputId": "de7c884c-25a1-4b84-82a9-a8fa4ee7a0a1"
      },
      "execution_count": 43,
      "outputs": [
        {
          "output_type": "stream",
          "name": "stdout",
          "text": [
            "[  1.42999995   1.82000002   0.         ...  40.28999949 198.7100005\n",
            " 165.6099987 ]\n",
            "0.0\n",
            "639.9499981\n",
            "51.36065613141295\n"
          ]
        }
      ]
    },
    {
      "cell_type": "code",
      "source": [
        "#id of ad with max number of clicks\n",
        "clicks = datac[:,7]\n",
        "max_clicks = clicks.max()\n",
        "print(max_clicks)"
      ],
      "metadata": {
        "colab": {
          "base_uri": "https://localhost:8080/"
        },
        "id": "BewFV_XhP-Ww",
        "outputId": "c09bb7ee-1011-4220-e74d-a2b08121c211"
      },
      "execution_count": 44,
      "outputs": [
        {
          "output_type": "stream",
          "name": "stdout",
          "text": [
            "421.0\n"
          ]
        }
      ]
    },
    {
      "cell_type": "code",
      "source": [
        "#index max clicks\n",
        "indexmc = list(clicks).index(max_clicks)\n",
        "print(indexmc)"
      ],
      "metadata": {
        "colab": {
          "base_uri": "https://localhost:8080/"
        },
        "id": "QbmPwxvEQwAB",
        "outputId": "c9a1e36d-806e-4f62-bc1e-ffc3218666cd"
      },
      "execution_count": 45,
      "outputs": [
        {
          "output_type": "stream",
          "name": "stdout",
          "text": [
            "860\n"
          ]
        }
      ]
    },
    {
      "cell_type": "code",
      "source": [
        "#find the id of the max clicks\n",
        "adclick=datac[:,0]\n",
        "ele=adclick[860]\n",
        "print(ele)\n",
        "#another way of writing the code\n",
        "#print(datac[:,0][indexmc])"
      ],
      "metadata": {
        "colab": {
          "base_uri": "https://localhost:8080/"
        },
        "id": "SWjh8MF7RX1x",
        "outputId": "a7d39a28-3caa-4c7a-f657-359c1af4922c"
      },
      "execution_count": 46,
      "outputs": [
        {
          "output_type": "stream",
          "name": "stdout",
          "text": [
            "1121814.0\n"
          ]
        }
      ]
    },
    {
      "cell_type": "code",
      "source": [
        "#find if the max click is the max purchase\n",
        "purch=datac[:,10]\n",
        "n=purch[860]\n",
        "maxo=max(purch)\n",
        "if maxo==n:\n",
        "   print(\"Yes it is\")\n",
        "else:\n",
        "    print(\"No it isn't\")"
      ],
      "metadata": {
        "colab": {
          "base_uri": "https://localhost:8080/"
        },
        "id": "R7ANClIUSh7q",
        "outputId": "de51972f-4b6d-47e5-8f41-12d7d1d4b0f5"
      },
      "execution_count": 47,
      "outputs": [
        {
          "output_type": "stream",
          "name": "stdout",
          "text": [
            "No it isn't\n"
          ]
        }
      ]
    },
    {
      "cell_type": "code",
      "source": [
        "#find the data of the most purchase\n",
        "idxmo=list(purch).index(maxo)\n",
        "print(data[idxmo])"
      ],
      "metadata": {
        "colab": {
          "base_uri": "https://localhost:8080/"
        },
        "id": "tQIyVeaETVBe",
        "outputId": "bc427cbc-7538-4d6a-fe8f-495368a9fc17"
      },
      "execution_count": 48,
      "outputs": [
        {
          "output_type": "stream",
          "name": "stdout",
          "text": [
            "['1121104' '1178' '144533' '30-34' 'M' '16' '2080666' '202' '360.1500015'\n",
            " '40' '21']\n"
          ]
        }
      ]
    },
    {
      "cell_type": "code",
      "source": [
        "#find the max purchase \n",
        "max_order = datac[:,10]\n",
        "find_max_order = max(max_order)\n",
        "print(find_max_order)"
      ],
      "metadata": {
        "colab": {
          "base_uri": "https://localhost:8080/"
        },
        "id": "OYcdsD68SVzz",
        "outputId": "56a97e15-46a6-42b1-fcc7-9850eacad136"
      },
      "execution_count": 49,
      "outputs": [
        {
          "output_type": "stream",
          "name": "stdout",
          "text": [
            "21.0\n"
          ]
        }
      ]
    }
  ]
}